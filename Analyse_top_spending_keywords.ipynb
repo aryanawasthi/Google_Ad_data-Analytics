{
 "cells": [
  {
   "cell_type": "code",
   "execution_count": 5,
   "id": "5010c8ff",
   "metadata": {},
   "outputs": [
    {
     "data": {
      "text/plain": [
       "rdd1 = user_2 MapPartitionsRDD[5] at textFile at <console>:30\n"
      ]
     },
     "metadata": {},
     "output_type": "display_data",
     "source": "user"
    },
    {
     "data": {
      "text/plain": [
       "user_2 MapPartitionsRDD[5] at textFile at <console>:30"
      ]
     },
     "execution_count": 5,
     "metadata": {},
     "output_type": "execute_result"
    }
   ],
   "source": [
    "/*here we need to find the spending in each keyword and try to analyse and improve the camapign of our source\n",
    "and load the file */\n",
    "\n",
    "val rdd1=sc.textFile(\"user_2\")"
   ]
  },
  {
   "cell_type": "code",
   "execution_count": 14,
   "id": "9e30942a",
   "metadata": {},
   "outputs": [
    {
     "data": {
      "text/plain": [
       "sort = MapPartitionsRDD[8] at map at <console>:28\n"
      ]
     },
     "metadata": {},
     "output_type": "display_data",
     "source": "user"
    },
    {
     "data": {
      "text/plain": [
       "MapPartitionsRDD[8] at map at <console>:28"
      ]
     },
     "execution_count": 14,
     "metadata": {},
     "output_type": "execute_result"
    }
   ],
   "source": [
    "// we will convert the data into our required schema whee we need only keywords and price\n",
    "val sort=rdd1.map(x=>(x.split(\",\")(10).toFloat,x.split(\",\")(0).toLowerCase))\n"
   ]
  },
  {
   "cell_type": "code",
   "execution_count": 15,
   "id": "9516777f",
   "metadata": {},
   "outputs": [
    {
     "data": {
      "text/plain": [
       "words = MapPartitionsRDD[9] at flatMapValues at <console>:36\n"
      ]
     },
     "metadata": {},
     "output_type": "display_data",
     "source": "user"
    },
    {
     "data": {
      "text/plain": [
       "MapPartitionsRDD[9] at flatMapValues at <console>:36"
      ]
     },
     "execution_count": 15,
     "metadata": {},
     "output_type": "execute_result"
    }
   ],
   "source": [
    "/* now we have to convert the data into\n",
    "24.06,big data contents), (59.94,spark training with lab access)\n",
    "to\n",
    "(24.06,big)\n",
    "(24.06,data)\n",
    "(24.06,contents)\n",
    "therefore as dfor one input we have multiple outputs therefore we will use the flatmap whuich will flatten it out\n",
    "and that too only in values or use x._2\n",
    "*/\n",
    "var words=sort.flatMapValues(x=>x.split(\" \"))\n"
   ]
  },
  {
   "cell_type": "code",
   "execution_count": 16,
   "id": "27827fda",
   "metadata": {},
   "outputs": [
    {
     "data": {
      "text/plain": [
       "Array((24.06,big), (24.06,data), (24.06,contents), (59.94,spark), (59.94,training), (59.94,with), (59.94,lab), (59.94,access), (28.45,online), (28.45,hadoop), (28.45,training), (28.45,institutes), (28.45,in), (28.45,hyderabad), (24.64,coursera), (24.64,data), (24.64,analytics), (34.86,ameerpet), (34.86,big), (34.86,data), (34.86,training), (34.86,cost), (60.94,good), (60.94,comment), (60.94,on), (60.94,big), (60.94,data), (60.94,trainer), (29.21,spark), (29.21,classes), (25.42,data), (25.42,analytics), (25.42,course), (25.42,near), (25.42,me), (29.93,best), (29.93,big), (29.93,data), (29.93,course), (6.95,hadoop), (6.95,spark), (6.95,course), (6.95,in), (6.95,bangalore), (67.82,www), (67.82,intellipaat), (67.82,com), (12.56,python), (12.56,course), (12.56..."
      ]
     },
     "execution_count": 16,
     "metadata": {},
     "output_type": "execute_result"
    }
   ],
   "source": [
    "words.collect"
   ]
  },
  {
   "cell_type": "code",
   "execution_count": 17,
   "id": "7a625e25",
   "metadata": {},
   "outputs": [
    {
     "data": {
      "text/plain": [
       "sorted_data = MapPartitionsRDD[10] at map at <console>:29\n"
      ]
     },
     "metadata": {},
     "output_type": "display_data",
     "source": "user"
    },
    {
     "data": {
      "text/plain": [
       "MapPartitionsRDD[10] at map at <console>:29"
      ]
     },
     "execution_count": 17,
     "metadata": {},
     "output_type": "execute_result"
    }
   ],
   "source": [
    "/* as we have to use the value by keys therefore we can use the reduceByKey function but for that we have to make the \\\n",
    "key fixed which incase is a number with which we want to perform operation*/\n",
    "var sorted_data=words.map(x=>(x._2,x._1))"
   ]
  },
  {
   "cell_type": "code",
   "execution_count": 20,
   "id": "66a33e52",
   "metadata": {},
   "outputs": [
    {
     "data": {
      "text/plain": [
       "results = ShuffledRDD[11] at reduceByKey at <console>:28\n"
      ]
     },
     "metadata": {},
     "output_type": "display_data",
     "source": "user"
    },
    {
     "data": {
      "text/plain": [
       "ShuffledRDD[11] at reduceByKey at <console>:28"
      ]
     },
     "execution_count": 20,
     "metadata": {},
     "output_type": "execute_result"
    }
   ],
   "source": [
    "// now we have to use the reduceByKey to find the solution\n",
    "var results=sorted_data.reduceByKey((x,y)=>x+y)"
   ]
  },
  {
   "cell_type": "code",
   "execution_count": 22,
   "id": "547b080c",
   "metadata": {},
   "outputs": [
    {
     "data": {
      "text/plain": [
       "final_results = MapPartitionsRDD[16] at sortBy at <console>:28\n"
      ]
     },
     "metadata": {},
     "output_type": "display_data",
     "source": "user"
    },
    {
     "data": {
      "text/plain": [
       "MapPartitionsRDD[16] at sortBy at <console>:28"
      ]
     },
     "execution_count": 22,
     "metadata": {},
     "output_type": "execute_result"
    }
   ],
   "source": [
    "// the data looks quite hapahazard therefore we will sort the data and use it to get some clutterout\n",
    "val final_results=results.sortBy(x=>x._2,false)"
   ]
  },
  {
   "cell_type": "code",
   "execution_count": 24,
   "id": "fb576b98",
   "metadata": {},
   "outputs": [
    {
     "data": {
      "text/plain": [
       "Array((data,16394.64), (big,12889.278), (in,5774.84), (hadoop,4818.34), (course,4191.5903), (training,4099.3696), (online,3484.4202), (courses,2565.78), (intellipaat,2081.22), (analytics,1458.51), (tutorial,1383.3701), (hyderabad,1118.16), (spark,1078.72), (best,1047.7), (bangalore,1039.27), (and,985.8), (certification,967.44), (for,967.05005), (of,871.42004), (to,848.32996), (with,728.3), (cloudxlab,707.52), (bigdata,694.48), (dataflair,643.9), (chennai,604.04), (on,573.41003), (institute,531.21), (learn,530.38), (analysis,487.8), (india,471.83002), (engineer,457.09), (institutes,437.14005), (apache,422.94), (placement,413.51), (the,395.63), (is,394.02002), (learning,384.4), (fees,382.5), (classes,373.69), (delhi,358.71997), (edureka,351.44), (analyst,34..."
      ]
     },
     "execution_count": 24,
     "metadata": {},
     "output_type": "execute_result"
    }
   ],
   "source": [
    "// we can see the top 5 spending and what are the keywords which are very helpful.\n",
    "final_results.collect"
   ]
  },
  {
   "cell_type": "code",
   "execution_count": null,
   "id": "1d6a0689",
   "metadata": {},
   "outputs": [],
   "source": []
  }
 ],
 "metadata": {
  "kernelspec": {
   "display_name": "Spark 2 - Scala",
   "language": "scala",
   "name": "spark_2_scala"
  },
  "language_info": {
   "codemirror_mode": "text/x-scala",
   "file_extension": ".scala",
   "mimetype": "text/x-scala",
   "name": "scala",
   "pygments_lexer": "scala",
   "version": "2.11.12"
  }
 },
 "nbformat": 4,
 "nbformat_minor": 5
}
